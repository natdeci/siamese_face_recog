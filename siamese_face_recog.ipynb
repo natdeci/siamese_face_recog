{
 "cells": [
  {
   "cell_type": "markdown",
   "metadata": {},
   "source": [
    "# Siamese neural network\n",
    "first we check what is the type of the x and y in the example i got from https://www.youtube.com/watch?v=DGJyh5dK4hU"
   ]
  },
  {
   "cell_type": "code",
   "execution_count": 1,
   "metadata": {},
   "outputs": [],
   "source": [
    "# import tensorflow as tf\n",
    "\n",
    "# mnist = tf.keras.datasets.mnist\n",
    "\n",
    "# (X_train, y_train), (X_test, y_test) = mnist.load_data()\n",
    "\n",
    "# print(type(y_train))\n",
    "# X_train[0][0]"
   ]
  },
  {
   "cell_type": "code",
   "execution_count": 1,
   "metadata": {},
   "outputs": [],
   "source": [
    "import os\n",
    "import cv2\n",
    "import numpy as np\n",
    "from sklearn.model_selection import train_test_split\n",
    "\n",
    "import tensorflow as tf\n",
    "from tensorflow.keras.layers import *\n",
    "from tensorflow.keras.models import Sequential, Model\n",
    "from tensorflow.keras.callbacks import EarlyStopping\n",
    "\n",
    "import itertools"
   ]
  },
  {
   "cell_type": "code",
   "execution_count": 2,
   "metadata": {},
   "outputs": [
    {
     "name": "stdout",
     "output_type": "stream",
     "text": [
      "365\n"
     ]
    }
   ],
   "source": [
    "img = cv2.imread('actor_faces\\Aaron_Eckhart\\Aaron_Eckhart_1_1.jpeg')\n",
    "img = cv2.cvtColor(img, cv2.COLOR_BGR2GRAY)\n",
    "print(len(img[0]))"
   ]
  },
  {
   "cell_type": "code",
   "execution_count": 4,
   "metadata": {},
   "outputs": [
    {
     "name": "stdout",
     "output_type": "stream",
     "text": [
      "Aaron_Eckhart\n",
      "[[118  95 114 ... 135 133 146]\n",
      " [106 102 123 ... 134 130 137]\n",
      " [ 97 111 133 ... 134 130 134]\n",
      " ...\n",
      " [  6   7   7 ...  62  60  57]\n",
      " [  6   6   9 ...  56  51  51]\n",
      " [  6   5  11 ...  55  53  61]]\n"
     ]
    }
   ],
   "source": [
    "data_dir = \"actor_faces\"\n",
    "face_data = []\n",
    "label_data = []\n",
    "\n",
    "for label in os.listdir(data_dir):\n",
    "    label_path = os.path.join(data_dir, label)\n",
    "    \n",
    "    if not os.path.isdir(label_path):\n",
    "        continue\n",
    "    \n",
    "    for file_name in os.listdir(label_path):\n",
    "        cur_path = os.path.join(label_path, file_name)\n",
    "        cur_img = cv2.imread(cur_path)\n",
    "        if cur_img is None:\n",
    "          continue\n",
    "        cur_img = cv2.resize(cur_img, (100, 100))\n",
    "        cur_img = cv2.cvtColor(cur_img, cv2.COLOR_BGR2GRAY)\n",
    "        face_data.append(cur_img)\n",
    "        label_data.append(label)\n",
    "\n",
    "print(label_data[0]) \n",
    "print(face_data[0])\n",
    "\n",
    "cv2.imshow('anjay', face_data[0])\n",
    "cv2.waitKey(0)\n",
    "cv2.destroyAllWindows()"
   ]
  },
  {
   "cell_type": "code",
   "execution_count": 5,
   "metadata": {},
   "outputs": [
    {
     "name": "stdout",
     "output_type": "stream",
     "text": [
      "(13233, 250, 250)\n",
      "(13233,)\n"
     ]
    }
   ],
   "source": [
    "face_array = np.array(face_data)\n",
    "label_array = np.array(label_data)\n",
    "\n",
    "print(face_array.shape)\n",
    "print(label_array.shape)"
   ]
  },
  {
   "cell_type": "code",
   "execution_count": 6,
   "metadata": {},
   "outputs": [
    {
     "name": "stdout",
     "output_type": "stream",
     "text": [
      "x_train shape: (10586, 250, 250)\n",
      "y_train shape: (10586,)\n",
      "x_test shape: (2647, 250, 250)\n",
      "y_test shape: (2647,)\n"
     ]
    }
   ],
   "source": [
    "x_train, x_test, y_train, y_test = train_test_split(face_array, label_array, test_size=0.2, random_state=42)\n",
    "\n",
    "# Check the shapes of the split arrays\n",
    "print(\"x_train shape:\", x_train.shape)\n",
    "print(\"y_train shape:\", y_train.shape)\n",
    "print(\"x_test shape:\", x_test.shape)\n",
    "print(\"y_test shape:\", y_test.shape)"
   ]
  },
  {
   "cell_type": "code",
   "execution_count": 7,
   "metadata": {},
   "outputs": [
    {
     "data": {
      "text/html": [
       "<pre style=\"white-space:pre;overflow-x:auto;line-height:normal;font-family:Menlo,'DejaVu Sans Mono',consolas,'Courier New',monospace\"><span style=\"font-weight: bold\">Model: \"functional_5\"</span>\n",
       "</pre>\n"
      ],
      "text/plain": [
       "\u001b[1mModel: \"functional_5\"\u001b[0m\n"
      ]
     },
     "metadata": {},
     "output_type": "display_data"
    },
    {
     "data": {
      "text/html": [
       "<pre style=\"white-space:pre;overflow-x:auto;line-height:normal;font-family:Menlo,'DejaVu Sans Mono',consolas,'Courier New',monospace\">┏━━━━━━━━━━━━━━━━━━━━━┳━━━━━━━━━━━━━━━━━━━┳━━━━━━━━━━━━┳━━━━━━━━━━━━━━━━━━━┓\n",
       "┃<span style=\"font-weight: bold\"> Layer (type)        </span>┃<span style=\"font-weight: bold\"> Output Shape      </span>┃<span style=\"font-weight: bold\">    Param # </span>┃<span style=\"font-weight: bold\"> Connected to      </span>┃\n",
       "┡━━━━━━━━━━━━━━━━━━━━━╇━━━━━━━━━━━━━━━━━━━╇━━━━━━━━━━━━╇━━━━━━━━━━━━━━━━━━━┩\n",
       "│ img_A_inp           │ (<span style=\"color: #00d7ff; text-decoration-color: #00d7ff\">None</span>, <span style=\"color: #00af00; text-decoration-color: #00af00\">250</span>, <span style=\"color: #00af00; text-decoration-color: #00af00\">250</span>)  │          <span style=\"color: #00af00; text-decoration-color: #00af00\">0</span> │ -                 │\n",
       "│ (<span style=\"color: #0087ff; text-decoration-color: #0087ff\">InputLayer</span>)        │                   │            │                   │\n",
       "├─────────────────────┼───────────────────┼────────────┼───────────────────┤\n",
       "│ img_B_inp           │ (<span style=\"color: #00d7ff; text-decoration-color: #00d7ff\">None</span>, <span style=\"color: #00af00; text-decoration-color: #00af00\">250</span>, <span style=\"color: #00af00; text-decoration-color: #00af00\">250</span>)  │          <span style=\"color: #00af00; text-decoration-color: #00af00\">0</span> │ -                 │\n",
       "│ (<span style=\"color: #0087ff; text-decoration-color: #0087ff\">InputLayer</span>)        │                   │            │                   │\n",
       "├─────────────────────┼───────────────────┼────────────┼───────────────────┤\n",
       "│ sequential_4        │ (<span style=\"color: #00d7ff; text-decoration-color: #00d7ff\">None</span>, <span style=\"color: #00af00; text-decoration-color: #00af00\">64</span>)        │  <span style=\"color: #00af00; text-decoration-color: #00af00\">1,586,496</span> │ img_A_inp[<span style=\"color: #00af00; text-decoration-color: #00af00\">0</span>][<span style=\"color: #00af00; text-decoration-color: #00af00\">0</span>],  │\n",
       "│ (<span style=\"color: #0087ff; text-decoration-color: #0087ff\">Sequential</span>)        │                   │            │ img_B_inp[<span style=\"color: #00af00; text-decoration-color: #00af00\">0</span>][<span style=\"color: #00af00; text-decoration-color: #00af00\">0</span>]   │\n",
       "├─────────────────────┼───────────────────┼────────────┼───────────────────┤\n",
       "│ concatenate         │ (<span style=\"color: #00d7ff; text-decoration-color: #00d7ff\">None</span>, <span style=\"color: #00af00; text-decoration-color: #00af00\">128</span>)       │          <span style=\"color: #00af00; text-decoration-color: #00af00\">0</span> │ sequential_4[<span style=\"color: #00af00; text-decoration-color: #00af00\">0</span>][<span style=\"color: #00af00; text-decoration-color: #00af00\">…</span> │\n",
       "│ (<span style=\"color: #0087ff; text-decoration-color: #0087ff\">Concatenate</span>)       │                   │            │ sequential_4[<span style=\"color: #00af00; text-decoration-color: #00af00\">1</span>][<span style=\"color: #00af00; text-decoration-color: #00af00\">…</span> │\n",
       "├─────────────────────┼───────────────────┼────────────┼───────────────────┤\n",
       "│ dense_1 (<span style=\"color: #0087ff; text-decoration-color: #0087ff\">Dense</span>)     │ (<span style=\"color: #00d7ff; text-decoration-color: #00d7ff\">None</span>, <span style=\"color: #00af00; text-decoration-color: #00af00\">64</span>)        │      <span style=\"color: #00af00; text-decoration-color: #00af00\">8,256</span> │ concatenate[<span style=\"color: #00af00; text-decoration-color: #00af00\">0</span>][<span style=\"color: #00af00; text-decoration-color: #00af00\">0</span>] │\n",
       "├─────────────────────┼───────────────────┼────────────┼───────────────────┤\n",
       "│ dense_2 (<span style=\"color: #0087ff; text-decoration-color: #0087ff\">Dense</span>)     │ (<span style=\"color: #00d7ff; text-decoration-color: #00d7ff\">None</span>, <span style=\"color: #00af00; text-decoration-color: #00af00\">1</span>)         │         <span style=\"color: #00af00; text-decoration-color: #00af00\">65</span> │ dense_1[<span style=\"color: #00af00; text-decoration-color: #00af00\">0</span>][<span style=\"color: #00af00; text-decoration-color: #00af00\">0</span>]     │\n",
       "└─────────────────────┴───────────────────┴────────────┴───────────────────┘\n",
       "</pre>\n"
      ],
      "text/plain": [
       "┏━━━━━━━━━━━━━━━━━━━━━┳━━━━━━━━━━━━━━━━━━━┳━━━━━━━━━━━━┳━━━━━━━━━━━━━━━━━━━┓\n",
       "┃\u001b[1m \u001b[0m\u001b[1mLayer (type)       \u001b[0m\u001b[1m \u001b[0m┃\u001b[1m \u001b[0m\u001b[1mOutput Shape     \u001b[0m\u001b[1m \u001b[0m┃\u001b[1m \u001b[0m\u001b[1m   Param #\u001b[0m\u001b[1m \u001b[0m┃\u001b[1m \u001b[0m\u001b[1mConnected to     \u001b[0m\u001b[1m \u001b[0m┃\n",
       "┡━━━━━━━━━━━━━━━━━━━━━╇━━━━━━━━━━━━━━━━━━━╇━━━━━━━━━━━━╇━━━━━━━━━━━━━━━━━━━┩\n",
       "│ img_A_inp           │ (\u001b[38;5;45mNone\u001b[0m, \u001b[38;5;34m250\u001b[0m, \u001b[38;5;34m250\u001b[0m)  │          \u001b[38;5;34m0\u001b[0m │ -                 │\n",
       "│ (\u001b[38;5;33mInputLayer\u001b[0m)        │                   │            │                   │\n",
       "├─────────────────────┼───────────────────┼────────────┼───────────────────┤\n",
       "│ img_B_inp           │ (\u001b[38;5;45mNone\u001b[0m, \u001b[38;5;34m250\u001b[0m, \u001b[38;5;34m250\u001b[0m)  │          \u001b[38;5;34m0\u001b[0m │ -                 │\n",
       "│ (\u001b[38;5;33mInputLayer\u001b[0m)        │                   │            │                   │\n",
       "├─────────────────────┼───────────────────┼────────────┼───────────────────┤\n",
       "│ sequential_4        │ (\u001b[38;5;45mNone\u001b[0m, \u001b[38;5;34m64\u001b[0m)        │  \u001b[38;5;34m1,586,496\u001b[0m │ img_A_inp[\u001b[38;5;34m0\u001b[0m][\u001b[38;5;34m0\u001b[0m],  │\n",
       "│ (\u001b[38;5;33mSequential\u001b[0m)        │                   │            │ img_B_inp[\u001b[38;5;34m0\u001b[0m][\u001b[38;5;34m0\u001b[0m]   │\n",
       "├─────────────────────┼───────────────────┼────────────┼───────────────────┤\n",
       "│ concatenate         │ (\u001b[38;5;45mNone\u001b[0m, \u001b[38;5;34m128\u001b[0m)       │          \u001b[38;5;34m0\u001b[0m │ sequential_4[\u001b[38;5;34m0\u001b[0m][\u001b[38;5;34m…\u001b[0m │\n",
       "│ (\u001b[38;5;33mConcatenate\u001b[0m)       │                   │            │ sequential_4[\u001b[38;5;34m1\u001b[0m][\u001b[38;5;34m…\u001b[0m │\n",
       "├─────────────────────┼───────────────────┼────────────┼───────────────────┤\n",
       "│ dense_1 (\u001b[38;5;33mDense\u001b[0m)     │ (\u001b[38;5;45mNone\u001b[0m, \u001b[38;5;34m64\u001b[0m)        │      \u001b[38;5;34m8,256\u001b[0m │ concatenate[\u001b[38;5;34m0\u001b[0m][\u001b[38;5;34m0\u001b[0m] │\n",
       "├─────────────────────┼───────────────────┼────────────┼───────────────────┤\n",
       "│ dense_2 (\u001b[38;5;33mDense\u001b[0m)     │ (\u001b[38;5;45mNone\u001b[0m, \u001b[38;5;34m1\u001b[0m)         │         \u001b[38;5;34m65\u001b[0m │ dense_1[\u001b[38;5;34m0\u001b[0m][\u001b[38;5;34m0\u001b[0m]     │\n",
       "└─────────────────────┴───────────────────┴────────────┴───────────────────┘\n"
      ]
     },
     "metadata": {},
     "output_type": "display_data"
    },
    {
     "data": {
      "text/html": [
       "<pre style=\"white-space:pre;overflow-x:auto;line-height:normal;font-family:Menlo,'DejaVu Sans Mono',consolas,'Courier New',monospace\"><span style=\"font-weight: bold\"> Total params: </span><span style=\"color: #00af00; text-decoration-color: #00af00\">1,594,817</span> (6.08 MB)\n",
       "</pre>\n"
      ],
      "text/plain": [
       "\u001b[1m Total params: \u001b[0m\u001b[38;5;34m1,594,817\u001b[0m (6.08 MB)\n"
      ]
     },
     "metadata": {},
     "output_type": "display_data"
    },
    {
     "data": {
      "text/html": [
       "<pre style=\"white-space:pre;overflow-x:auto;line-height:normal;font-family:Menlo,'DejaVu Sans Mono',consolas,'Courier New',monospace\"><span style=\"font-weight: bold\"> Trainable params: </span><span style=\"color: #00af00; text-decoration-color: #00af00\">1,592,897</span> (6.08 MB)\n",
       "</pre>\n"
      ],
      "text/plain": [
       "\u001b[1m Trainable params: \u001b[0m\u001b[38;5;34m1,592,897\u001b[0m (6.08 MB)\n"
      ]
     },
     "metadata": {},
     "output_type": "display_data"
    },
    {
     "data": {
      "text/html": [
       "<pre style=\"white-space:pre;overflow-x:auto;line-height:normal;font-family:Menlo,'DejaVu Sans Mono',consolas,'Courier New',monospace\"><span style=\"font-weight: bold\"> Non-trainable params: </span><span style=\"color: #00af00; text-decoration-color: #00af00\">1,920</span> (7.50 KB)\n",
       "</pre>\n"
      ],
      "text/plain": [
       "\u001b[1m Non-trainable params: \u001b[0m\u001b[38;5;34m1,920\u001b[0m (7.50 KB)\n"
      ]
     },
     "metadata": {},
     "output_type": "display_data"
    }
   ],
   "source": [
    "from tensorflow.keras.layers import *\n",
    "from tensorflow.keras.models import Sequential, Model\n",
    "\n",
    "\n",
    "img_A_inp = Input((250, 250), name='img_A_inp')\n",
    "img_B_inp = Input((250, 250), name='img_B_inp')\n",
    "\n",
    "def get_cnn_block(depth):\n",
    "  return Sequential([Conv2D(depth, 3, 1),\n",
    "                     BatchNormalization(),\n",
    "                     ReLU()])\n",
    "\n",
    "DEPTH = 64\n",
    "cnn = Sequential([Reshape((250, 250, 1)),\n",
    "                  get_cnn_block(DEPTH),\n",
    "                  get_cnn_block(DEPTH*2),\n",
    "                  get_cnn_block(DEPTH*4),\n",
    "                  get_cnn_block(DEPTH*8),\n",
    "                  GlobalAveragePooling2D(),\n",
    "                  Dense(64, activation='relu')])\n",
    "\n",
    "feature_vector_A = cnn(img_A_inp)\n",
    "feature_vector_B = cnn(img_B_inp)\n",
    "\n",
    "concat = Concatenate()([feature_vector_A, feature_vector_B])\n",
    "\n",
    "dense = Dense(64, activation='relu')(concat)\n",
    "output = Dense(1, activation='sigmoid')(dense)\n",
    "\n",
    "model = Model(inputs=[img_A_inp, img_B_inp], outputs=output)\n",
    "\n",
    "model.summary()"
   ]
  },
  {
   "cell_type": "code",
   "execution_count": 8,
   "metadata": {},
   "outputs": [
    {
     "data": {
      "text/plain": [
       "((300, 250, 250), (300,))"
      ]
     },
     "execution_count": 8,
     "metadata": {},
     "output_type": "execute_result"
    }
   ],
   "source": [
    "random_indices = np.random.choice(x_train.shape[0], 300, replace=False)\n",
    "\n",
    "X_train_sample, y_train_sample = x_train[random_indices], y_train[random_indices]\n",
    "\n",
    "X_train_sample.shape, y_train_sample.shape"
   ]
  },
  {
   "cell_type": "code",
   "execution_count": 9,
   "metadata": {},
   "outputs": [
    {
     "data": {
      "text/plain": [
       "90000"
      ]
     },
     "execution_count": 9,
     "metadata": {},
     "output_type": "execute_result"
    }
   ],
   "source": [
    "len(X_train_sample) ** 2"
   ]
  },
  {
   "cell_type": "code",
   "execution_count": 10,
   "metadata": {},
   "outputs": [],
   "source": [
    "\n",
    "\n",
    "def make_paired_dataset(X, y):\n",
    "  X_pairs, y_pairs = [], []\n",
    "import itertools\n",
    "  tuples = [(x1, y1) for x1, y1 in zip(X, y)]\n",
    "  \n",
    "  for t in itertools.product(tuples, tuples):\n",
    "    pair_A, pair_B = t\n",
    "    img_A, label_A = t[0]\n",
    "    img_B, label_B = t[1]\n",
    "\n",
    "    new_label = int(label_A == label_B)\n",
    "\n",
    "    X_pairs.append([img_A, img_B])\n",
    "    y_pairs.append(new_label)\n",
    "  \n",
    "  X_pairs = np.array(X_pairs)\n",
    "  y_pairs = np.array(y_pairs)\n",
    "\n",
    "  return X_pairs, y_pairs"
   ]
  },
  {
   "cell_type": "code",
   "execution_count": 11,
   "metadata": {},
   "outputs": [
    {
     "data": {
      "text/plain": [
       "(array([[[[  3,   3,   4, ...,   0,   0,   0],\n",
       "          [  2,   2,   2, ...,   0,   0,   0],\n",
       "          [  1,   1,   1, ...,   0,   0,   0],\n",
       "          ...,\n",
       "          [  0,   0,   0, ...,   0,   0,   0],\n",
       "          [  0,   0,   0, ...,   0,   0,   0],\n",
       "          [  0,   0,   0, ...,   0,   0,   0]],\n",
       " \n",
       "         [[  3,   3,   4, ...,   0,   0,   0],\n",
       "          [  2,   2,   2, ...,   0,   0,   0],\n",
       "          [  1,   1,   1, ...,   0,   0,   0],\n",
       "          ...,\n",
       "          [  0,   0,   0, ...,   0,   0,   0],\n",
       "          [  0,   0,   0, ...,   0,   0,   0],\n",
       "          [  0,   0,   0, ...,   0,   0,   0]]],\n",
       " \n",
       " \n",
       "        [[[  3,   3,   4, ...,   0,   0,   0],\n",
       "          [  2,   2,   2, ...,   0,   0,   0],\n",
       "          [  1,   1,   1, ...,   0,   0,   0],\n",
       "          ...,\n",
       "          [  0,   0,   0, ...,   0,   0,   0],\n",
       "          [  0,   0,   0, ...,   0,   0,   0],\n",
       "          [  0,   0,   0, ...,   0,   0,   0]],\n",
       " \n",
       "         [[  0,   0,   0, ...,   0,   0,   0],\n",
       "          [  0,   0,   0, ...,   0,   0,   0],\n",
       "          [  0,   0,   0, ...,   0,   0,   0],\n",
       "          ...,\n",
       "          [  0,   0,   0, ...,   0,   0,   0],\n",
       "          [  0,   0,   0, ...,   0,   0,   0],\n",
       "          [  0,   0,   0, ...,   0,   0,   0]]],\n",
       " \n",
       " \n",
       "        [[[  3,   3,   4, ...,   0,   0,   0],\n",
       "          [  2,   2,   2, ...,   0,   0,   0],\n",
       "          [  1,   1,   1, ...,   0,   0,   0],\n",
       "          ...,\n",
       "          [  0,   0,   0, ...,   0,   0,   0],\n",
       "          [  0,   0,   0, ...,   0,   0,   0],\n",
       "          [  0,   0,   0, ...,   0,   0,   0]],\n",
       " \n",
       "         [[  1,   1,   1, ...,   0,   0,   0],\n",
       "          [  2,   1,   3, ...,   0,   0,   0],\n",
       "          [  3,   2,   3, ...,   0,   0,   0],\n",
       "          ...,\n",
       "          [ 96,  97,  98, ...,  38,  40,   1],\n",
       "          [ 97,  98,  98, ...,  49,  41,   1],\n",
       "          [ 97,  98,  98, ...,  43,  41,   1]]],\n",
       " \n",
       " \n",
       "        ...,\n",
       " \n",
       " \n",
       "        [[[  1,   1,   0, ..., 130, 134, 135],\n",
       "          [  1,   1,   0, ..., 130, 133, 134],\n",
       "          [  1,   1,   0, ..., 131, 133, 134],\n",
       "          ...,\n",
       "          [  0,   0,   0, ...,   8,   3,   3],\n",
       "          [  0,   0,   0, ...,  10,   4,   3],\n",
       "          [  0,   0,   0, ...,  10,   4,   3]],\n",
       " \n",
       "         [[146, 185, 224, ...,   7,   8,   8],\n",
       "          [118, 158, 197, ..., 192, 187, 187],\n",
       "          [ 98, 141, 181, ..., 197, 194, 194],\n",
       "          ...,\n",
       "          [157, 167, 166, ...,  32,  36,   1],\n",
       "          [160, 167, 168, ...,  32,  31,   0],\n",
       "          [157, 167, 173, ...,  32,  31,   0]]],\n",
       " \n",
       " \n",
       "        [[[  1,   1,   0, ..., 130, 134, 135],\n",
       "          [  1,   1,   0, ..., 130, 133, 134],\n",
       "          [  1,   1,   0, ..., 131, 133, 134],\n",
       "          ...,\n",
       "          [  0,   0,   0, ...,   8,   3,   3],\n",
       "          [  0,   0,   0, ...,  10,   4,   3],\n",
       "          [  0,   0,   0, ...,  10,   4,   3]],\n",
       " \n",
       "         [[  2,   0,   1, ...,   1,   1,   1],\n",
       "          [  8,   0,   6, ...,   6,   0,   0],\n",
       "          [  1,   1,   2, ...,   2,   2,   2],\n",
       "          ...,\n",
       "          [  1,   1,   1, ...,   0,   0,   0],\n",
       "          [  1,   1,   0, ...,   0,   0,   0],\n",
       "          [  1,   1,   0, ...,   0,   0,   0]]],\n",
       " \n",
       " \n",
       "        [[[  1,   1,   0, ..., 130, 134, 135],\n",
       "          [  1,   1,   0, ..., 130, 133, 134],\n",
       "          [  1,   1,   0, ..., 131, 133, 134],\n",
       "          ...,\n",
       "          [  0,   0,   0, ...,   8,   3,   3],\n",
       "          [  0,   0,   0, ...,  10,   4,   3],\n",
       "          [  0,   0,   0, ...,  10,   4,   3]],\n",
       " \n",
       "         [[  1,   1,   0, ..., 130, 134, 135],\n",
       "          [  1,   1,   0, ..., 130, 133, 134],\n",
       "          [  1,   1,   0, ..., 131, 133, 134],\n",
       "          ...,\n",
       "          [  0,   0,   0, ...,   8,   3,   3],\n",
       "          [  0,   0,   0, ...,  10,   4,   3],\n",
       "          [  0,   0,   0, ...,  10,   4,   3]]]], dtype=uint8),\n",
       " array([1, 0, 0, ..., 0, 0, 1]))"
      ]
     },
     "execution_count": 11,
     "metadata": {},
     "output_type": "execute_result"
    }
   ],
   "source": [
    "make_paired_dataset(X_train_sample, y_train_sample)"
   ]
  },
  {
   "cell_type": "code",
   "execution_count": 12,
   "metadata": {},
   "outputs": [
    {
     "data": {
      "text/plain": [
       "((90000, 2, 250, 250), (90000,))"
      ]
     },
     "execution_count": 12,
     "metadata": {},
     "output_type": "execute_result"
    }
   ],
   "source": [
    "X_train_pairs, y_train_pairs = make_paired_dataset(X_train_sample, y_train_sample)\n",
    "\n",
    "X_train_pairs.shape, y_train_pairs.shape"
   ]
  },
  {
   "cell_type": "code",
   "execution_count": 13,
   "metadata": {},
   "outputs": [
    {
     "data": {
      "text/plain": [
       "((150, 250, 250), (150,))"
      ]
     },
     "execution_count": 13,
     "metadata": {},
     "output_type": "execute_result"
    }
   ],
   "source": [
    "random_indices = np.random.choice(x_test.shape[0], 150, replace=False)\n",
    "\n",
    "X_test_sample, y_test_sample = x_test[random_indices], y_test[random_indices]\n",
    "\n",
    "X_test_sample.shape, y_test_sample.shape"
   ]
  },
  {
   "cell_type": "code",
   "execution_count": 14,
   "metadata": {},
   "outputs": [
    {
     "data": {
      "text/plain": [
       "((22500, 2, 250, 250), (22500,))"
      ]
     },
     "execution_count": 14,
     "metadata": {},
     "output_type": "execute_result"
    }
   ],
   "source": [
    "X_test_pairs, y_test_pairs = make_paired_dataset(X_test_sample, y_test_sample)\n",
    "\n",
    "X_test_pairs.shape, y_test_pairs.shape"
   ]
  },
  {
   "cell_type": "code",
   "execution_count": 15,
   "metadata": {},
   "outputs": [],
   "source": [
    "model.compile(loss='binary_crossentropy',\n",
    "              optimizer=tf.keras.optimizers.Adam(learning_rate=0.001),\n",
    "              metrics=['accuracy'])"
   ]
  },
  {
   "cell_type": "code",
   "execution_count": 16,
   "metadata": {},
   "outputs": [
    {
     "ename": "",
     "evalue": "",
     "output_type": "error",
     "traceback": [
      "\u001b[1;31mThe Kernel crashed while executing code in the current cell or a previous cell. \n",
      "\u001b[1;31mPlease review the code in the cell(s) to identify a possible cause of the failure. \n",
      "\u001b[1;31mClick <a href='https://aka.ms/vscodeJupyterKernelCrash'>here</a> for more info. \n",
      "\u001b[1;31mView Jupyter <a href='command:jupyter.viewOutput'>log</a> for further details."
     ]
    }
   ],
   "source": [
    "from tensorflow.keras.callbacks import EarlyStopping\n",
    "\n",
    "es = EarlyStopping(patience=3)"
   ]
  },
  {
   "cell_type": "code",
   "execution_count": null,
   "metadata": {},
   "outputs": [
    {
     "name": "stdout",
     "output_type": "stream",
     "text": [
      "Epoch 1/50\n"
     ]
    },
    {
     "name": "stderr",
     "output_type": "stream",
     "text": [
      "c:\\Users\\Deciano\\.virtualenvs\\siamese_face_recog-2vr_2qQt\\lib\\site-packages\\keras\\src\\models\\functional.py:225: UserWarning: The structure of `inputs` doesn't match the expected structure: ['img_A_inp', 'img_B_inp']. Received: the structure of inputs=('*', '*')\n",
      "  warnings.warn(\n"
     ]
    }
   ],
   "source": [
    "model.fit(x=[X_train_pairs[:, 0, :, :], X_train_pairs[:, 1, :, :]],\n",
    "          y=y_train_pairs,\n",
    "          validation_data=([X_test_pairs[:, 0, :, :], \n",
    "                            X_test_pairs[:, 1, :, :]],\n",
    "                           y_test_pairs),\n",
    "          epochs=50,\n",
    "          batch_size=16,\n",
    "          callbacks=[es])"
   ]
  },
  {
   "cell_type": "code",
   "execution_count": null,
   "metadata": {},
   "outputs": [],
   "source": [
    "img_A, img_B = X_test[0], X_test[17]\n",
    "label_A, label_B = y_test[0], y_test[17]\n",
    "\n",
    "label_A, label_B"
   ]
  }
 ],
 "metadata": {
  "kernelspec": {
   "display_name": "siamese_face_recog-2vr_2qQt",
   "language": "python",
   "name": "python3"
  },
  "language_info": {
   "codemirror_mode": {
    "name": "ipython",
    "version": 3
   },
   "file_extension": ".py",
   "mimetype": "text/x-python",
   "name": "python",
   "nbconvert_exporter": "python",
   "pygments_lexer": "ipython3",
   "version": "3.10.7"
  }
 },
 "nbformat": 4,
 "nbformat_minor": 2
}
